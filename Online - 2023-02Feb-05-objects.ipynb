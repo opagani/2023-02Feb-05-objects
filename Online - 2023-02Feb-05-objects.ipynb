{
 "cells": [
  {
   "cell_type": "markdown",
   "metadata": {},
   "source": [
    "# Python objects for newbies!\n",
    "\n",
    "1. Background on object-oriented programming\n",
    "2. Vocabulary -- Classes, objects (instances), and methods\n",
    "3. Writing our own class (our own new data type)\n",
    "4. What happens when we create a new object (instance)?\n",
    "5. Attributes -- what are they, how can we read/write them? How are they different from variables?\n",
    "6. Complex objects (\"composition of objects\")\n",
    "7. Methods (writing our own)\n",
    "8. Methods and special parameters"
   ]
  },
  {
   "cell_type": "markdown",
   "metadata": {},
   "source": [
    "# Background on object-oriented programming\n",
    "\n",
    "Back in the 1970s, the software industry had a problem: People were writing code, and they were having trouble organizing it and maintaining it.\n",
    "\n",
    "Xerox established a research center called PARC (Palo Alto Research Center), where they got a bunch of very smart people to invent new technologies. They invented, among other things, the mouse, on-screen fonts and windows, the mouse, Ethernet, PostScript (the father of PDF), and a lot of other things.\n",
    "\n",
    "One of the people at PARC was named Alan Kay. He saw the crisis in software as a problem worth solving. He decided to sovle it using something he called \"object-oriented programming,\" in a language called SmallTalk.\n",
    "\n",
    "Kay thought about how we can structure our software, even if it's hugely complex. He took biological systems as the model.\n",
    "\n",
    "In our body, we have cells. Each cell is of a different type. Each type of cell can send certain kinds of messages, and can receive certain kinds of messages.\n",
    "\n",
    "That model for software design is what led to object-oriented programming.\n",
    "\n",
    "- We'll have different types of objects in our software\n",
    "- Each object will be able to send certain messages, and receive certain messages\n",
    "- By thinking in terms of these different types, we aren't overwhelmed by all of the implementation\n",
    "\n",
    "Objects became super duper popular. Nowadays, it's a rare programming language that wants to be taken seriously which doesn't have objects.  Exceptions: Go, Erlang, bash.  But most languages do have object facilities, and use similar vocabulary to describe what we're doing, and how we're doing it.\n",
    "\n",
    "When you have a problem, and want to solve it with objects, you think about:\n",
    "\n",
    "- What types of nouns are going to exist in this system?\n",
    "- What types of messages should those nouns be able to receive?\n",
    "- What types of messages should these nouns send to other objects?\n",
    "\n",
    "We'll create different types of objects, aka \"classes.\"\n",
    "\n",
    "Each object we create is an \"instance\" of a different type.\n",
    "\n",
    "Each message we send is actually what we call \"invoking a method\" or \"calling a method.\""
   ]
  },
  {
   "cell_type": "markdown",
   "metadata": {},
   "source": [
    "# Important to remember\n",
    "\n",
    "Object-oriented programming is **NOT** a religion! It's a technique for managing and understanding your code. Every language does objects in a slightly different way, and different people use them in different ways, and that's OK.\n",
    "\n",
    "Some languages (e.g., Java and C#) require that you do everything via classes and methods and objects.\n",
    "\n",
    "In Python, you don't have to do so. You can create classes and your own objects, if that will help you to write your software better.  If it's easier to just write a simple function? Go for it!"
   ]
  },
  {
   "cell_type": "markdown",
   "metadata": {},
   "source": [
    "# Everything is an object!\n",
    "\n",
    "What does this mean? Who cares?\n",
    "\n",
    "It means: The language is very consistent. The same grammar, the same rules apply to every single thing in the programming language. When you learn how to work with strings, you're effectively also learning how to work with lists, tuples, dicts, sets, and any data structure that *you* create.  Because they're all based on the same types of objects, classes, methods, etc.\n",
    "\n",
    "If everything is an object, then everything has a *type*, or a *class*.  That helps us because every object of the same type acts the same way. \n",
    "\n",
    "Different cars work basically the same way, but they have different colors, sizes, makes, models, etc.  We can say that there's a car \"class\" and many objects of type \"car.\"\n",
    "\n",
    "Different pizzas taste basically the same, but they have different sizes, toppings, crusts, cheeses, etc.  We can say that there's a pizza \"class\" and many objects of type \"pizza.\"\n"
   ]
  },
  {
   "cell_type": "code",
   "execution_count": 1,
   "metadata": {},
   "outputs": [],
   "source": [
    "# let's look at some Python objects\n",
    "\n",
    "x = 10    # I'm assigning the integer 10 to x"
   ]
  },
  {
   "cell_type": "code",
   "execution_count": 2,
   "metadata": {},
   "outputs": [
    {
     "data": {
      "text/plain": [
       "int"
      ]
     },
     "execution_count": 2,
     "metadata": {},
     "output_type": "execute_result"
    }
   ],
   "source": [
    "# 10 is not just an integer\n",
    "\n",
    "# it's an integer object\n",
    "# it's an object of type integer\n",
    "# it's an instance of class integer\n",
    "# it's an instance of integer\n",
    "\n",
    "# I don't need to guess! I can ask Python to tell me what type of value I have\n",
    "type(x)"
   ]
  },
  {
   "cell_type": "markdown",
   "metadata": {},
   "source": [
    "# Some terminology\n",
    "\n",
    "A \"class\" (aka a \"type\") is the overall category of object that we're creating. You can think of a class/type as a factory for objects.\n",
    "\n",
    "So when I get into a car, I'm getting into a car object, created at the car factory.  In object terms, that means I'm getting into an instance of car, created by the car class.\n",
    "\n",
    "class == factory\n",
    "instance == thing manufactured\n",
    "\n",
    "What about the word \"object\"?\n",
    "\n",
    "It's very squishy. It usually refers to an instance, but in Python, it can also refer to a class. Colloquially, when I say that something is \"an object of type X,\" that means \"an instance of type X.\""
   ]
  },
  {
   "cell_type": "code",
   "execution_count": 3,
   "metadata": {},
   "outputs": [],
   "source": [
    "# here, I'm creating a list ,and assigning it to y\n",
    "# what's the type of y going to be?\n",
    "\n",
    "y = [10, 20, 30]   # we use [] to create lists"
   ]
  },
  {
   "cell_type": "code",
   "execution_count": 5,
   "metadata": {},
   "outputs": [
    {
     "data": {
      "text/plain": [
       "list"
      ]
     },
     "execution_count": 5,
     "metadata": {},
     "output_type": "execute_result"
    }
   ],
   "source": [
    "type(y)    # y is a variable referring to a list object, aka an instance of the \"list\" class/type"
   ]
  },
  {
   "cell_type": "code",
   "execution_count": 6,
   "metadata": {},
   "outputs": [
    {
     "data": {
      "text/plain": [
       "dict"
      ]
     },
     "execution_count": 6,
     "metadata": {},
     "output_type": "execute_result"
    }
   ],
   "source": [
    "d = {'a':10, 'b':20, 'c':30}    # we use {} to create dictionaries\n",
    "\n",
    "# here, I've created a new object and assigned it to d.  \n",
    "# what type of object do I have here?\n",
    "\n",
    "type(d)"
   ]
  },
  {
   "cell_type": "markdown",
   "metadata": {},
   "source": [
    "Confused by the parentheses? Try this!\n",
    "\n",
    "Python parentheses primer: https://lerner.co.il/2018/06/08/python-parentheses-primer/"
   ]
  },
  {
   "cell_type": "markdown",
   "metadata": {},
   "source": [
    "# Exercise: Name that type!\n",
    "\n",
    "Here are several data structures in Python. Guess what type each is, and then use `type` to find out if you're right!\n",
    "\n",
    "1. `'abcd'`\n",
    "2. (10, 20, 30)\n",
    "3. (10)\n",
    "4. [10, 20, 30][2]\n"
   ]
  },
  {
   "cell_type": "code",
   "execution_count": 7,
   "metadata": {},
   "outputs": [
    {
     "data": {
      "text/plain": [
       "str"
      ]
     },
     "execution_count": 7,
     "metadata": {},
     "output_type": "execute_result"
    }
   ],
   "source": [
    "type('abcd')   # 'abcd' is an instance of str (string)"
   ]
  },
  {
   "cell_type": "code",
   "execution_count": 9,
   "metadata": {},
   "outputs": [
    {
     "data": {
      "text/plain": [
       "tuple"
      ]
     },
     "execution_count": 9,
     "metadata": {},
     "output_type": "execute_result"
    }
   ],
   "source": [
    "type((10, 20, 30))   # (10, 20, 30) is an instance of tuple"
   ]
  },
  {
   "cell_type": "code",
   "execution_count": 10,
   "metadata": {},
   "outputs": [
    {
     "data": {
      "text/plain": [
       "int"
      ]
     },
     "execution_count": 10,
     "metadata": {},
     "output_type": "execute_result"
    }
   ],
   "source": [
    "type((10))   # (10) without anything else is an INTEGER because there are no commas in there, which tuples require"
   ]
  },
  {
   "cell_type": "code",
   "execution_count": 11,
   "metadata": {},
   "outputs": [
    {
     "data": {
      "text/plain": [
       "tuple"
      ]
     },
     "execution_count": 11,
     "metadata": {},
     "output_type": "execute_result"
    }
   ],
   "source": [
    "type((10,))   # now it's a tuple"
   ]
  },
  {
   "cell_type": "code",
   "execution_count": 13,
   "metadata": {},
   "outputs": [
    {
     "data": {
      "text/plain": [
       "int"
      ]
     },
     "execution_count": 13,
     "metadata": {},
     "output_type": "execute_result"
    }
   ],
   "source": [
    "type([10, 20, 30][2])   # this is an integer, 30, the item at index 2 in [10, 20, 30]"
   ]
  },
  {
   "cell_type": "code",
   "execution_count": 15,
   "metadata": {},
   "outputs": [
    {
     "data": {
      "text/plain": [
       "30"
      ]
     },
     "execution_count": 15,
     "metadata": {},
     "output_type": "execute_result"
    }
   ],
   "source": [
    "mylist = [10, 20, 30]\n",
    "mylist[2]              # return the value at index 2 in the list that \"mylist\" refers to"
   ]
  },
  {
   "cell_type": "markdown",
   "metadata": {},
   "source": [
    "# What does this mean? \n",
    "\n",
    "When we create or use data in Python, we're using objects.\n",
    "\n",
    "Every object has a type.  Objects of the same type behave in similar ways. They send and receive the same messages.\n",
    "\n",
    "We can call the same *methods* on them. \"Method\" is a fancy term used in the object-oriented world for \"function.\"\n",
    "\n",
    "We know already that we can call the same functions (methods) on all strings. And the same methods on all lists. And on all dicts.  The type of data we have determines what methods we can run on it."
   ]
  },
  {
   "cell_type": "code",
   "execution_count": 16,
   "metadata": {},
   "outputs": [
    {
     "data": {
      "text/plain": [
       "dict_keys(['a', 'b', 'c'])"
      ]
     },
     "execution_count": 16,
     "metadata": {},
     "output_type": "execute_result"
    }
   ],
   "source": [
    "d = {'a':10, 'b':20, 'c':30}  # this is a dict\n",
    "\n",
    "d.keys()    # the keys() method returns all of the keys of the dict"
   ]
  },
  {
   "cell_type": "code",
   "execution_count": 17,
   "metadata": {},
   "outputs": [
    {
     "data": {
      "text/plain": [
       "dict_values([10, 20, 30])"
      ]
     },
     "execution_count": 17,
     "metadata": {},
     "output_type": "execute_result"
    }
   ],
   "source": [
    "d.values()   # the values() method returns all of the values of the dict"
   ]
  },
  {
   "cell_type": "code",
   "execution_count": 18,
   "metadata": {},
   "outputs": [
    {
     "data": {
      "text/plain": [
       "dict_items([('a', 10), ('b', 20), ('c', 30)])"
      ]
     },
     "execution_count": 18,
     "metadata": {},
     "output_type": "execute_result"
    }
   ],
   "source": [
    "d.items()   # the items() method returns all of the items, in a list of tuples"
   ]
  },
  {
   "cell_type": "markdown",
   "metadata": {},
   "source": [
    "Once you know the type of data you have, then you can look up what methods that data structure (that type!) supports. And then you know what you can do with any and all instances of that type.\n",
    "\n"
   ]
  },
  {
   "cell_type": "code",
   "execution_count": 19,
   "metadata": {},
   "outputs": [],
   "source": [
    "s1 = 'abcd'\n",
    "s2 = 'efgh'"
   ]
  },
  {
   "cell_type": "code",
   "execution_count": null,
   "metadata": {},
   "outputs": [],
   "source": []
  },
  {
   "cell_type": "code",
   "execution_count": 20,
   "metadata": {},
   "outputs": [
    {
     "data": {
      "text/plain": [
       "'ABCD'"
      ]
     },
     "execution_count": 20,
     "metadata": {},
     "output_type": "execute_result"
    }
   ],
   "source": [
    "s1.upper()   # call the upper method on s1"
   ]
  },
  {
   "cell_type": "code",
   "execution_count": 21,
   "metadata": {},
   "outputs": [
    {
     "data": {
      "text/plain": [
       "'EFGH'"
      ]
     },
     "execution_count": 21,
     "metadata": {},
     "output_type": "execute_result"
    }
   ],
   "source": [
    "s2.upper()  # call the upper method on s2"
   ]
  },
  {
   "cell_type": "markdown",
   "metadata": {},
   "source": [
    "How did I know that I can call `upper` on both of these strings? Because `upper` is a string method, and it works on all strings, no matter what their contents are.\n",
    "\n",
    "- A big part of learning Python is learning what methods you can run on each data structure\n",
    "- A big part of learning new Python modules/objects is learning what methods they support\n",
    "- A big part of *creating* your own classes is deciding what methods you'll support"
   ]
  },
  {
   "cell_type": "markdown",
   "metadata": {},
   "source": [
    "# Why you shouldn't use `dict.keys`\n",
    "\n",
    "1. If you're searching in a dict, use `'a' in d` and not `'a' in d.keys()`.  The first is faster and cleaner.\n",
    "2. If you're iterating over a dict, use `for one_key in d` and not `for one_key in d.keys()`.  The first is faster and cleaner."
   ]
  },
  {
   "cell_type": "markdown",
   "metadata": {},
   "source": [
    "# Functions vs. methods\n",
    "\n",
    "Functions look like this:\n",
    "\n",
    "    myfunc(mydata)\n",
    "    \n",
    "Methods look like this:\n",
    "\n",
    "    mydata.myfunc()\n",
    "    \n",
    "Most verbs in Python are actually methods, not functions. Learning about a data type often means learning what methods that type supports.\n",
    "\n",
    "Here's a little secret: You can call methods either on the class or on the instance.\n",
    "\n",
    "Meaning, I can say:"
   ]
  },
  {
   "cell_type": "code",
   "execution_count": 22,
   "metadata": {},
   "outputs": [
    {
     "data": {
      "text/plain": [
       "'ABCD'"
      ]
     },
     "execution_count": 22,
     "metadata": {},
     "output_type": "execute_result"
    }
   ],
   "source": [
    "s = 'abcd'\n",
    "\n",
    "# I can say this:\n",
    "s.upper()           # this is a bit more usual"
   ]
  },
  {
   "cell_type": "code",
   "execution_count": 23,
   "metadata": {},
   "outputs": [
    {
     "data": {
      "text/plain": [
       "'ABCD'"
      ]
     },
     "execution_count": 23,
     "metadata": {},
     "output_type": "execute_result"
    }
   ],
   "source": [
    "# but I can also, if I prefer, say this:\n",
    "str.upper(s)"
   ]
  },
  {
   "cell_type": "markdown",
   "metadata": {},
   "source": [
    "the first (`s.upper()`) was rewritten behind the scenes to be `str.upper(s)`.  Python does a little rewriting for us."
   ]
  },
  {
   "cell_type": "markdown",
   "metadata": {},
   "source": [
    "# The vocabulary we need\n",
    "\n",
    "- Type - what kind of data do we have? We can find out with the `type` function. Example types are `str`, `int`, `list`, `dict`, and anything we create.\n",
    "- Class - same as `type`, but the word `class` in Python has a slightly different meaning, which we'll see\n",
    "- Instance - a single object of a given type. Example instances are 5 (instance of `int`), `'abcd'` (instance of `str`), and `[10, 20, 30]` (instance of `list`).\n",
    "- Object - usually an instance, but it can describe classes as well, especially in Python, where everything is an object.\n",
    "- Method -- a function associated with a particular class.  If a class implements a method, then all instances of that class can invoke that method.\n",
    "\n",
    "Because methods are associated with particular types, we can't make the mistake of calling a method on the wrong type of data. "
   ]
  },
  {
   "cell_type": "code",
   "execution_count": 24,
   "metadata": {},
   "outputs": [
    {
     "data": {
      "text/plain": [
       "4"
      ]
     },
     "execution_count": 24,
     "metadata": {},
     "output_type": "execute_result"
    }
   ],
   "source": [
    "len('abcd')"
   ]
  },
  {
   "cell_type": "code",
   "execution_count": 25,
   "metadata": {},
   "outputs": [
    {
     "ename": "TypeError",
     "evalue": "object of type 'int' has no len()",
     "output_type": "error",
     "traceback": [
      "\u001b[0;31m---------------------------------------------------------------------------\u001b[0m",
      "\u001b[0;31mTypeError\u001b[0m                                 Traceback (most recent call last)",
      "Cell \u001b[0;32mIn [25], line 1\u001b[0m\n\u001b[0;32m----> 1\u001b[0m \u001b[38;5;28;43mlen\u001b[39;49m\u001b[43m(\u001b[49m\u001b[38;5;241;43m10\u001b[39;49m\u001b[43m)\u001b[49m\n",
      "\u001b[0;31mTypeError\u001b[0m: object of type 'int' has no len()"
     ]
    }
   ],
   "source": [
    "len(10)"
   ]
  },
  {
   "cell_type": "code",
   "execution_count": 26,
   "metadata": {},
   "outputs": [
    {
     "data": {
      "text/plain": [
       "'ABCD'"
      ]
     },
     "execution_count": 26,
     "metadata": {},
     "output_type": "execute_result"
    }
   ],
   "source": [
    "# if I use methods, then I (or maybe Python) can be a bit more aware of potential problems\n",
    "\n",
    "s = 'abcd'\n",
    "s.upper()"
   ]
  },
  {
   "cell_type": "code",
   "execution_count": 27,
   "metadata": {},
   "outputs": [
    {
     "ename": "AttributeError",
     "evalue": "'str' object has no attribute 'hello'",
     "output_type": "error",
     "traceback": [
      "\u001b[0;31m---------------------------------------------------------------------------\u001b[0m",
      "\u001b[0;31mAttributeError\u001b[0m                            Traceback (most recent call last)",
      "Cell \u001b[0;32mIn [27], line 1\u001b[0m\n\u001b[0;32m----> 1\u001b[0m \u001b[43ms\u001b[49m\u001b[38;5;241;43m.\u001b[39;49m\u001b[43mhello\u001b[49m()\n",
      "\u001b[0;31mAttributeError\u001b[0m: 'str' object has no attribute 'hello'"
     ]
    }
   ],
   "source": [
    "s.hello()"
   ]
  },
  {
   "cell_type": "markdown",
   "metadata": {},
   "source": [
    "# What are attributes?\n",
    "\n",
    "Three ways to think about them:\n",
    "\n",
    "1. Generally speaking, attributes are names that come after a `.` in Python. Often, they are methods (as we see here), but they can also be data.  Attributes are core to how objects work.\n",
    "\n",
    "2. Python has two value storage systems. One is variables, and the other is attributes. \n",
    "\n",
    "3. You can think of attributes as a private dictionary (name-value pairs) that a particular object owns.  It doesn't look like a dict, but it feels sorta kinda like one.\n",
    "\n",
    "Methods that have `__` (double underscore) at the start and end of their names are called \"magic methods\" or \"dunder methods\", and we generally don't run them ourselves, but rather let Python's internals call them for us.\n",
    "\n",
    "`__len__` is the special method that the function `len` calls to get the length of an object in Python.\n",
    "\n",
    "You should always call the `len` function on objects in Python, passing the object as an argument.  Don't call magic methods yourself, except in very rare circumstances."
   ]
  },
  {
   "cell_type": "markdown",
   "metadata": {},
   "source": [
    "# Next up\n",
    "\n",
    "1. How to write our own class\n",
    "2. What happens when someone asks our class to create a new object?\n",
    "\n",
    "Resume at :38 \n",
    "\n",
    "## TURN VIDEO BACK ON"
   ]
  },
  {
   "cell_type": "code",
   "execution_count": 28,
   "metadata": {},
   "outputs": [
    {
     "data": {
      "text/plain": [
       "11"
      ]
     },
     "execution_count": 28,
     "metadata": {},
     "output_type": "execute_result"
    }
   ],
   "source": [
    "x = 5\n",
    "y = 6\n",
    "\n",
    "x + y   "
   ]
  },
  {
   "cell_type": "markdown",
   "metadata": {},
   "source": [
    "# How could we keep track of a person without our own class?\n",
    "\n",
    "Yes, absolutely! It's traditional in Python to use a tuple for a set of values that aren't of the same type.  If I want to keep track of a person's first name, last name, and shoe size, then I can do that with a tuple."
   ]
  },
  {
   "cell_type": "code",
   "execution_count": 29,
   "metadata": {},
   "outputs": [],
   "source": [
    "p = ('Reuven', 'Lerner', 46)   # first name, last name, shoe size"
   ]
  },
  {
   "cell_type": "code",
   "execution_count": 30,
   "metadata": {},
   "outputs": [
    {
     "data": {
      "text/plain": [
       "'Reuven'"
      ]
     },
     "execution_count": 30,
     "metadata": {},
     "output_type": "execute_result"
    }
   ],
   "source": [
    "# how do I get the first name?\n",
    "p[0]"
   ]
  },
  {
   "cell_type": "code",
   "execution_count": 31,
   "metadata": {},
   "outputs": [
    {
     "data": {
      "text/plain": [
       "'Lerner'"
      ]
     },
     "execution_count": 31,
     "metadata": {},
     "output_type": "execute_result"
    }
   ],
   "source": [
    "# how do I get the last name?\n",
    "p[1]"
   ]
  },
  {
   "cell_type": "code",
   "execution_count": 32,
   "metadata": {},
   "outputs": [
    {
     "data": {
      "text/plain": [
       "46"
      ]
     },
     "execution_count": 32,
     "metadata": {},
     "output_type": "execute_result"
    }
   ],
   "source": [
    "# how do I get the shoe size?\n",
    "p[2]"
   ]
  },
  {
   "cell_type": "markdown",
   "metadata": {},
   "source": [
    "Technically speaking, there isn't anything wrong with this.\n",
    "\n",
    "But wouldn't it be better if:\n",
    "\n",
    "- We could use names instead of index numbers\n",
    "- We could update the names and shoe size\n",
    "- We have additional functions that have to do with people, we could have them together with the person object, rather than in a function that doesn't explicitly connect them\n",
    "- As I grow my Person functionality, this last point becomes increasingly important."
   ]
  },
  {
   "cell_type": "markdown",
   "metadata": {},
   "source": [
    "# I want to create a new class called `Person`\n",
    "\n",
    "By convention, all classes in Python start with capital letters. (Except for very old classes that come with Python, which get grandfathered.)"
   ]
  },
  {
   "cell_type": "code",
   "execution_count": 33,
   "metadata": {},
   "outputs": [],
   "source": [
    "class Person:     # this is where I tell Python I'm creating a new class / type\n",
    "\n",
    "    def __init__(self, first, last, shoesize):   # this is where I'm creating a special (\"magic\") method, __init__\n",
    "        self.first = first         # assign first's value to self.first, a new attribute created right now\n",
    "        self.last = last           # assign last's value to self.last, a new attribute created right now.\n",
    "        self.shoesize = shoesize   # assign shoesize's value to self.shoesize, created right now"
   ]
  },
  {
   "cell_type": "code",
   "execution_count": 34,
   "metadata": {},
   "outputs": [],
   "source": [
    "# once I've executed the above code, I have taught Python about a new data structure,\n",
    "# known as Person. I have created a new Person class. I can thus create lots of Person instances\n",
    "# (aka people)."
   ]
  },
  {
   "cell_type": "code",
   "execution_count": 35,
   "metadata": {},
   "outputs": [],
   "source": [
    "p = Person('Reuven', 'Lerner', 46)    # creating a new Person instance"
   ]
  },
  {
   "cell_type": "code",
   "execution_count": 36,
   "metadata": {},
   "outputs": [
    {
     "data": {
      "text/plain": [
       "'Reuven'"
      ]
     },
     "execution_count": 36,
     "metadata": {},
     "output_type": "execute_result"
    }
   ],
   "source": [
    "# get the first name\n",
    "p.first   # retrieving the \"first\" attribute from p"
   ]
  },
  {
   "cell_type": "code",
   "execution_count": 37,
   "metadata": {},
   "outputs": [
    {
     "data": {
      "text/plain": [
       "'Lerner'"
      ]
     },
     "execution_count": 37,
     "metadata": {},
     "output_type": "execute_result"
    }
   ],
   "source": [
    "# get the last name\n",
    "p.last   # retrieving the \"last\" attribute from p"
   ]
  },
  {
   "cell_type": "code",
   "execution_count": 38,
   "metadata": {},
   "outputs": [
    {
     "data": {
      "text/plain": [
       "46"
      ]
     },
     "execution_count": 38,
     "metadata": {},
     "output_type": "execute_result"
    }
   ],
   "source": [
    "# get the shoe size\n",
    "p.shoesize   # retrieving the \"shoesize\" attribute from p"
   ]
  },
  {
   "cell_type": "markdown",
   "metadata": {},
   "source": [
    "# What does my code do?\n",
    "\n",
    "1. The `class` keyword tells Python we're defining a new class. You say `class`, the name of the class (type) that you want to create, and then a colon (and newline)\n",
    "2. You don't have to do this, but it's rare not to: You'll want to define a method. Not just any method, but a magic method.  And not just any magic method, but the `__init__` (yes, we say \"dunder init\" in the Python world) method, which is invoked when the new object is created.\n",
    "\n",
    "`__init__`'s job is to make a generic new instance into a specific one. Every instance of `Person` needs to have `first`, `last`, and `shoesize` defined. Where are we going to store them? And who is going to assign them?\n",
    "\n",
    "The answer is that `__init__` will assign them, and it'll do that with *attributes*, adding one or more attributes to the new object that was just created. That new object is referenced with `self`.  `self` refers to our object, and it is *ALWAYS* the first parameter in any method."
   ]
  },
  {
   "cell_type": "code",
   "execution_count": 40,
   "metadata": {},
   "outputs": [
    {
     "ename": "TypeError",
     "evalue": "Person.__init__() missing 3 required positional arguments: 'first', 'last', and 'shoesize'",
     "output_type": "error",
     "traceback": [
      "\u001b[0;31m---------------------------------------------------------------------------\u001b[0m",
      "\u001b[0;31mTypeError\u001b[0m                                 Traceback (most recent call last)",
      "Cell \u001b[0;32mIn [40], line 1\u001b[0m\n\u001b[0;32m----> 1\u001b[0m p \u001b[38;5;241m=\u001b[39m \u001b[43mPerson\u001b[49m\u001b[43m(\u001b[49m\u001b[43m)\u001b[49m   \u001b[38;5;66;03m# let's create an anonymous person!\u001b[39;00m\n",
      "\u001b[0;31mTypeError\u001b[0m: Person.__init__() missing 3 required positional arguments: 'first', 'last', and 'shoesize'"
     ]
    }
   ],
   "source": [
    "p = Person()   # let's create an anonymous person!"
   ]
  },
  {
   "cell_type": "markdown",
   "metadata": {},
   "source": [
    "# The `self` parameter\n",
    "\n",
    "Somehow, each method needs to know what instance it's working on.  If I call a method on an object, the method needs to be able to grab the correct instance.\n",
    "\n",
    "In many languages, we can do this with a special keyword called `this`. Not so in Python! In Python, we call it `self` (thanks to Smalltalk), and it is a parameter that every single method must define.\n",
    "\n",
    "You can, in theory, use any word that you want. You don't need to use `self`. But **PLEASE PLEASE PLEASE** use `self` as the first parameter."
   ]
  },
  {
   "cell_type": "markdown",
   "metadata": {},
   "source": [
    "# Attributes (and self)\n",
    "\n",
    "When you create a new class, you need to decide: What attributes are we going to keep track of on this class? Your `__init__` method should set values for all of those attributes, to make the code more readable.\n",
    "\n",
    "If you want to retrieve an attribute's value from a given instance, you can do that via the object (if you're outside of a method) or `self` (if you're inside of a method).\n",
    "\n",
    "Basically, if you're inside of a method, then you need to know via which instance the method was invoked. `self` is your way to know that."
   ]
  },
  {
   "cell_type": "code",
   "execution_count": 41,
   "metadata": {},
   "outputs": [],
   "source": [
    "p1 = Person('Reuven', 'Lerner', 46)\n",
    "p2 = Person('John', 'Doe', 44)"
   ]
  },
  {
   "cell_type": "code",
   "execution_count": 42,
   "metadata": {},
   "outputs": [],
   "source": [
    "class Person:     \n",
    "\n",
    "    def __init__(self, first, last, shoesize):   # these only exist so long as __init__ is executing\n",
    "        self.my_first_name = first          # attributes stick around as long as the Person object exists\n",
    "        self.my_last_name = last          \n",
    "        self.my_shoesize = shoesize       "
   ]
  },
  {
   "cell_type": "code",
   "execution_count": 43,
   "metadata": {},
   "outputs": [],
   "source": [
    "p = Person('Reuven', 'Lerner', 46)"
   ]
  },
  {
   "cell_type": "code",
   "execution_count": 44,
   "metadata": {},
   "outputs": [
    {
     "data": {
      "text/plain": [
       "'Reuven'"
      ]
     },
     "execution_count": 44,
     "metadata": {},
     "output_type": "execute_result"
    }
   ],
   "source": [
    "p.my_first_name   # retrieve the attribute's value"
   ]
  },
  {
   "cell_type": "code",
   "execution_count": 45,
   "metadata": {},
   "outputs": [
    {
     "data": {
      "text/plain": [
       "'Lerner'"
      ]
     },
     "execution_count": 45,
     "metadata": {},
     "output_type": "execute_result"
    }
   ],
   "source": [
    "p.my_last_name   # "
   ]
  },
  {
   "cell_type": "code",
   "execution_count": 46,
   "metadata": {},
   "outputs": [
    {
     "data": {
      "text/plain": [
       "46"
      ]
     },
     "execution_count": 46,
     "metadata": {},
     "output_type": "execute_result"
    }
   ],
   "source": [
    "p.my_shoesize"
   ]
  },
  {
   "cell_type": "code",
   "execution_count": 47,
   "metadata": {},
   "outputs": [],
   "source": [
    "p1 = Person('Reuven', 'Lerner', 46)   # create instance 1 of Person\n",
    "p2 = Person('John', 'Doe', 44)        # create instance 2 of Person"
   ]
  },
  {
   "cell_type": "code",
   "execution_count": 48,
   "metadata": {},
   "outputs": [
    {
     "data": {
      "text/plain": [
       "'Reuven'"
      ]
     },
     "execution_count": 48,
     "metadata": {},
     "output_type": "execute_result"
    }
   ],
   "source": [
    "p1.my_first_name"
   ]
  },
  {
   "cell_type": "code",
   "execution_count": 49,
   "metadata": {},
   "outputs": [
    {
     "ename": "AttributeError",
     "evalue": "'Person' object has no attribute 'first'",
     "output_type": "error",
     "traceback": [
      "\u001b[0;31m---------------------------------------------------------------------------\u001b[0m",
      "\u001b[0;31mAttributeError\u001b[0m                            Traceback (most recent call last)",
      "Cell \u001b[0;32mIn [49], line 1\u001b[0m\n\u001b[0;32m----> 1\u001b[0m \u001b[43mp1\u001b[49m\u001b[38;5;241;43m.\u001b[39;49m\u001b[43mfirst\u001b[49m    \u001b[38;5;66;03m#boom!\u001b[39;00m\n",
      "\u001b[0;31mAttributeError\u001b[0m: 'Person' object has no attribute 'first'"
     ]
    }
   ],
   "source": [
    "p1.first    #boom!"
   ]
  },
  {
   "cell_type": "markdown",
   "metadata": {},
   "source": [
    "# How do I create a class?\n",
    "\n",
    "1. I think about it -- what attributes am I going to want to set on each instance?\n",
    "2. I define my class object\n",
    "3. I define the `__init__` method, such that it has `self` as the first parameter, followed by any additional parameters that each instance might need.\n",
    "4. I call the class once for each new instance I want to create.  I get back a new instance for each call."
   ]
  },
  {
   "cell_type": "code",
   "execution_count": 50,
   "metadata": {},
   "outputs": [],
   "source": [
    "p1 = Person('a', 'b', 40)\n",
    "p2 = Person('c', 'd', 38)"
   ]
  },
  {
   "cell_type": "code",
   "execution_count": 51,
   "metadata": {},
   "outputs": [
    {
     "data": {
      "text/plain": [
       "__main__.Person"
      ]
     },
     "execution_count": 51,
     "metadata": {},
     "output_type": "execute_result"
    }
   ],
   "source": [
    "type(p1)"
   ]
  },
  {
   "cell_type": "code",
   "execution_count": null,
   "metadata": {},
   "outputs": [],
   "source": [
    "type(p2)# "
   ]
  },
  {
   "cell_type": "code",
   "execution_count": 53,
   "metadata": {},
   "outputs": [
    {
     "data": {
      "text/plain": [
       "{'my_first_name': 'a', 'my_last_name': 'b', 'my_shoesize': 40}"
      ]
     },
     "execution_count": 53,
     "metadata": {},
     "output_type": "execute_result"
    }
   ],
   "source": [
    "vars(p1)   # what attributes are defined here?"
   ]
  },
  {
   "cell_type": "code",
   "execution_count": 54,
   "metadata": {},
   "outputs": [
    {
     "data": {
      "text/plain": [
       "{'my_first_name': 'c', 'my_last_name': 'd', 'my_shoesize': 38}"
      ]
     },
     "execution_count": 54,
     "metadata": {},
     "output_type": "execute_result"
    }
   ],
   "source": [
    "vars(p2)  # what attributes are defined here?"
   ]
  },
  {
   "cell_type": "markdown",
   "metadata": {},
   "source": [
    "# Exercise: Company\n",
    "\n",
    "1. Define a class, `Company`, that lets us keep track of companies.  Each company will have:\n",
    "    - name\n",
    "    - industry\n",
    "    - CEO (which can be you!)\n",
    "2. Create one instance of `Company`.\n",
    "3. Print the name, industry, and CEO of the company."
   ]
  },
  {
   "cell_type": "code",
   "execution_count": 55,
   "metadata": {},
   "outputs": [],
   "source": [
    "# what happens if we don't expect any arguments from the user?\n",
    "# we could set each of the attributes without needing any parameters, then!\n",
    "\n",
    "class Company:\n",
    "    def __init__(self):\n",
    "        self.name = 'Big Company'\n",
    "        self.industry = 'Making money'\n",
    "        self.ceo = 'Reuven Lerner'\n",
    "        \n",
    "c1 = Company()\n",
    "c2 = Company()\n",
    "c3 = Company()"
   ]
  },
  {
   "cell_type": "code",
   "execution_count": 56,
   "metadata": {},
   "outputs": [
    {
     "data": {
      "text/plain": [
       "{'name': 'Big Company', 'industry': 'Making money', 'ceo': 'Reuven Lerner'}"
      ]
     },
     "execution_count": 56,
     "metadata": {},
     "output_type": "execute_result"
    }
   ],
   "source": [
    "vars(c1)"
   ]
  },
  {
   "cell_type": "code",
   "execution_count": 57,
   "metadata": {},
   "outputs": [
    {
     "data": {
      "text/plain": [
       "{'name': 'Big Company', 'industry': 'Making money', 'ceo': 'Reuven Lerner'}"
      ]
     },
     "execution_count": 57,
     "metadata": {},
     "output_type": "execute_result"
    }
   ],
   "source": [
    "vars(c2)"
   ]
  },
  {
   "cell_type": "code",
   "execution_count": 58,
   "metadata": {},
   "outputs": [
    {
     "data": {
      "text/plain": [
       "{'name': 'Big Company', 'industry': 'Making money', 'ceo': 'Reuven Lerner'}"
      ]
     },
     "execution_count": 58,
     "metadata": {},
     "output_type": "execute_result"
    }
   ],
   "source": [
    "vars(c3)"
   ]
  },
  {
   "cell_type": "code",
   "execution_count": 59,
   "metadata": {},
   "outputs": [],
   "source": [
    "# a much better way involves getting arguments from the user,\n",
    "# assigning them to parameters, and then assigning the parameter values to attributes on self\n",
    "\n",
    "class Company:\n",
    "    def __init__(self, name, industry, ceo):   # parameters only exist so long as the function is running!\n",
    "        self.name = name                       # attributes exist as long as the object exists\n",
    "        self.industry = industry\n",
    "        self.ceo = ceo\n",
    "        \n",
    "c1 = Company('Big Company', 'Making money', 'Reuven Lerner')        \n",
    "c2 = Company('Twitter', 'Losing money', 'Elon Musk')"
   ]
  },
  {
   "cell_type": "code",
   "execution_count": 63,
   "metadata": {},
   "outputs": [
    {
     "data": {
      "text/plain": [
       "{'name': 'Big Company', 'industry': 'Making money', 'ceo': 'Reuven Lerner'}"
      ]
     },
     "execution_count": 63,
     "metadata": {},
     "output_type": "execute_result"
    }
   ],
   "source": [
    "vars(c1)"
   ]
  },
  {
   "cell_type": "code",
   "execution_count": 61,
   "metadata": {},
   "outputs": [
    {
     "data": {
      "text/plain": [
       "{'name': 'Twitter', 'industry': 'Losing money', 'ceo': 'Elon Musk'}"
      ]
     },
     "execution_count": 61,
     "metadata": {},
     "output_type": "execute_result"
    }
   ],
   "source": [
    "vars(c2)"
   ]
  },
  {
   "cell_type": "code",
   "execution_count": 62,
   "metadata": {},
   "outputs": [
    {
     "data": {
      "text/plain": [
       "mappingproxy({'__module__': '__main__',\n",
       "              '__init__': <function __main__.Company.__init__(self, name, industry, ceo)>,\n",
       "              '__dict__': <attribute '__dict__' of 'Company' objects>,\n",
       "              '__weakref__': <attribute '__weakref__' of 'Company' objects>,\n",
       "              '__doc__': None})"
      ]
     },
     "execution_count": 62,
     "metadata": {},
     "output_type": "execute_result"
    }
   ],
   "source": [
    "vars(Company)"
   ]
  },
  {
   "cell_type": "code",
   "execution_count": 64,
   "metadata": {},
   "outputs": [
    {
     "data": {
      "text/plain": [
       "'Elon Musk'"
      ]
     },
     "execution_count": 64,
     "metadata": {},
     "output_type": "execute_result"
    }
   ],
   "source": [
    "c2.ceo   # I don't want to think in terms of strings, just names"
   ]
  },
  {
   "cell_type": "markdown",
   "metadata": {},
   "source": [
    "# Next up\n",
    "\n",
    "1. Simple methods\n",
    "2. Attributes -- retrieving and setting them (\"setters\" and \"getters\")\n",
    "3. More complex methods\n",
    "\n",
    "Resume at :40\n",
    "\n",
    "# RESUME VIDEO"
   ]
  },
  {
   "cell_type": "code",
   "execution_count": 65,
   "metadata": {},
   "outputs": [],
   "source": [
    "s = 'abcd'  # create an instance of str, aka a string"
   ]
  },
  {
   "cell_type": "code",
   "execution_count": 66,
   "metadata": {},
   "outputs": [
    {
     "data": {
      "text/plain": [
       "'ABCD'"
      ]
     },
     "execution_count": 66,
     "metadata": {},
     "output_type": "execute_result"
    }
   ],
   "source": [
    "s.upper()   # here, I'm invoking the method \"upper\" on s"
   ]
  },
  {
   "cell_type": "code",
   "execution_count": 69,
   "metadata": {},
   "outputs": [],
   "source": [
    "class Person:     \n",
    "\n",
    "    def __init__(self, first, last, shoesize):  \n",
    "        self.first = first          \n",
    "        self.last = last          \n",
    "        self.shoesize = shoesize       "
   ]
  },
  {
   "cell_type": "code",
   "execution_count": 70,
   "metadata": {},
   "outputs": [],
   "source": [
    "p = Person('Reuven', 'Lerner', 46)"
   ]
  },
  {
   "cell_type": "code",
   "execution_count": 72,
   "metadata": {},
   "outputs": [
    {
     "data": {
      "text/plain": [
       "'Reuven'"
      ]
     },
     "execution_count": 72,
     "metadata": {},
     "output_type": "execute_result"
    }
   ],
   "source": [
    "# we've seen that if we want to retrieve a value, we can just use the object and the attribute name\n",
    "p.first"
   ]
  },
  {
   "cell_type": "code",
   "execution_count": 73,
   "metadata": {},
   "outputs": [
    {
     "data": {
      "text/plain": [
       "'Lerner'"
      ]
     },
     "execution_count": 73,
     "metadata": {},
     "output_type": "execute_result"
    }
   ],
   "source": [
    "p.last"
   ]
  },
  {
   "cell_type": "code",
   "execution_count": 74,
   "metadata": {},
   "outputs": [
    {
     "data": {
      "text/plain": [
       "46"
      ]
     },
     "execution_count": 74,
     "metadata": {},
     "output_type": "execute_result"
    }
   ],
   "source": [
    "p.shoesize"
   ]
  },
  {
   "cell_type": "code",
   "execution_count": 75,
   "metadata": {},
   "outputs": [
    {
     "ename": "AttributeError",
     "evalue": "'Person' object has no attribute 'asdfsafdafa'",
     "output_type": "error",
     "traceback": [
      "\u001b[0;31m---------------------------------------------------------------------------\u001b[0m",
      "\u001b[0;31mAttributeError\u001b[0m                            Traceback (most recent call last)",
      "Cell \u001b[0;32mIn [75], line 2\u001b[0m\n\u001b[1;32m      1\u001b[0m \u001b[38;5;66;03m# what if I ask for an attribute that doesn't exist on the object?\u001b[39;00m\n\u001b[0;32m----> 2\u001b[0m \u001b[43mp\u001b[49m\u001b[38;5;241;43m.\u001b[39;49m\u001b[43masdfsafdafa\u001b[49m\n",
      "\u001b[0;31mAttributeError\u001b[0m: 'Person' object has no attribute 'asdfsafdafa'"
     ]
    }
   ],
   "source": [
    "# what if I ask for an attribute that doesn't exist on the object?\n",
    "p.asdfsafdafa"
   ]
  },
  {
   "cell_type": "code",
   "execution_count": 76,
   "metadata": {},
   "outputs": [],
   "source": [
    "# what if I want to modify my attribute?\n",
    "# that is: I want to change my name in p.  How can I do that?\n",
    "\n",
    "# I could say:\n",
    "p.first = 'NewName'"
   ]
  },
  {
   "cell_type": "code",
   "execution_count": 77,
   "metadata": {},
   "outputs": [
    {
     "data": {
      "text/plain": [
       "{'first': 'NewName', 'last': 'Lerner', 'shoesize': 46}"
      ]
     },
     "execution_count": 77,
     "metadata": {},
     "output_type": "execute_result"
    }
   ],
   "source": [
    "# what attributes are set on p?\n",
    "vars(p)"
   ]
  },
  {
   "cell_type": "markdown",
   "metadata": {},
   "source": [
    "# Reading from and writing to attributes\n",
    "\n",
    "In some languages, you need to use a special method to read from an attribute, and a separate special method to write to an attribute.\n",
    "\n",
    "Not so in Python!\n",
    "\n",
    "If you want to get the value of an attribute, just ask for it. Remember that an attribute *always* comes after a `.`.  So you'll need to name the attribute on the object where it was defined.\n",
    "\n",
    "Similarly, you can assign to an attribute by putting it on the left side of assignment.\n",
    "\n",
    "- Reading from an attribute that doesn't exist results in an error.\n",
    "- Writing to an attribute that doesn't exist results in a new attribute being defined!\n",
    "\n",
    "Many other languages see this as madness, and try to control access via:\n",
    "\n",
    "- Permissions -- in some languages, you can say that an attribute is \"private\" or \"protected,\" meaning that only some classes or objects can read from or write to those attributes. This idea **DOES NOT EXIST** in Python. In Python, absolutely everyone can read from any attribute, and absolutely everyone can write to any attribute.\n",
    "- Special methods -- known as \"getters\" (for retrieving values) and \"setters\" (for setting values), these are pretty standard in many languages. Not so in Python, where it's rare to write getters and setters.\n",
    "\n",
    "As a result, Python class definitions tend to be short and clear."
   ]
  },
  {
   "cell_type": "markdown",
   "metadata": {},
   "source": [
    "# How do we define methods?\n",
    "\n",
    "Answer: We use `def` (just like a function) inside of the class definition\n",
    "\n",
    "- The first parameter, which will refer to the current instance, is `self`\n",
    "- Any further parameters are assigned to via the arguments\n",
    "- Inside of your method, it's just a regular function *but* you also have access to `self`, the instance on which the method was invoked"
   ]
  },
  {
   "cell_type": "code",
   "execution_count": 78,
   "metadata": {},
   "outputs": [],
   "source": [
    "class Person:     \n",
    "\n",
    "    def __init__(self, first, last, shoesize):  \n",
    "        self.first = first          \n",
    "        self.last = last          \n",
    "        self.shoesize = shoesize       \n",
    "        \n",
    "    def initials(self):   # this returns a string with the initials of the first and last names\n",
    "        first_initial = self.first[0]\n",
    "        last_initial = self.last[0]\n",
    "\n",
    "        return first_initial + last_initial\n",
    "        "
   ]
  },
  {
   "cell_type": "code",
   "execution_count": 79,
   "metadata": {},
   "outputs": [],
   "source": [
    "p = Person('Reuven', 'Lerner', 46)"
   ]
  },
  {
   "cell_type": "code",
   "execution_count": 80,
   "metadata": {},
   "outputs": [
    {
     "data": {
      "text/plain": [
       "'RL'"
      ]
     },
     "execution_count": 80,
     "metadata": {},
     "output_type": "execute_result"
    }
   ],
   "source": [
    "# how do I call a method?\n",
    "\n",
    "# 1. on the instance (typically)\n",
    "# 2. . between the object and the method name\n",
    "# 3. use parentheses()\n",
    "# 4. any additional arguments go in the parentheses\n",
    "\n",
    "p.initials()   "
   ]
  },
  {
   "cell_type": "markdown",
   "metadata": {},
   "source": [
    "# Exercise: Ice cream scoop\n",
    "\n",
    "1. Define a `Scoop` class. Each instance of `Scoop` will represent a single scoop of ice cream (one flavor).\n",
    "2. Define three instances of `Scoop`, each with a different flavor.  The flavor should be assigned to an attribute named `flavor`.\n",
    "3. Assign all three instances of `Scoop` to a list.\n",
    "4. Iterate over the list, and print each scoop's flavor.\n",
    "\n",
    "Example:\n",
    "\n",
    "```python\n",
    "s1 = Scoop('chocolate')\n",
    "s2 = Scoop('vanilla')\n",
    "s3 = Scoop('coffee')\n",
    "\n",
    "for one_scoop in [s1, s2, s3]:\n",
    "    print(one_scoop.flavor)\n",
    "```"
   ]
  },
  {
   "cell_type": "code",
   "execution_count": 81,
   "metadata": {},
   "outputs": [
    {
     "name": "stdout",
     "output_type": "stream",
     "text": [
      "chocolate\n",
      "vanilla\n",
      "coffee\n"
     ]
    }
   ],
   "source": [
    "class Scoop:\n",
    "    def __init__(self, flavor):\n",
    "        self.flavor = flavor\n",
    "        \n",
    "s1 = Scoop('chocolate')\n",
    "s2 = Scoop('vanilla')\n",
    "s3 = Scoop('coffee')\n",
    "\n",
    "for one_scoop in [s1, s2, s3]:\n",
    "    print(one_scoop.flavor)"
   ]
  },
  {
   "cell_type": "markdown",
   "metadata": {},
   "source": [
    "# Objects containing other objects\n",
    "\n",
    "We see that each instance of our `Scoop` class contains a string on the `flavor` method. We can see that an attribute can contain a value, and when it does, it contains an object (because everything is an object).\n",
    "\n",
    "But does it have to be a string? Or an integer? No! It can be any object we want, of any type.\n",
    "\n",
    "If our attributes contain complex values, that's just fine, because everything is an object."
   ]
  },
  {
   "cell_type": "markdown",
   "metadata": {},
   "source": [
    "# Exercise: Bowl\n",
    "\n",
    "1. Define a `Bowl` class. Each instance of `Bowl` should have an attribute named `scoops`. That attribute should be a list into which we'll add scoops over time.\n",
    "2. When you create a new instance of `Bowl` it should be possible to get a list of scoops. These will each be added to the `scoops` attribute.\n",
    "\n",
    "Example:\n",
    "\n",
    "```python\n",
    "b = Bowl([s1, s2])   # this creates a new Bowl with two scoops in it\n",
    "```"
   ]
  },
  {
   "cell_type": "code",
   "execution_count": 82,
   "metadata": {},
   "outputs": [],
   "source": [
    "class Bowl:\n",
    "    def __init__(self, scoops):\n",
    "        self.scoops = scoops    # take the list that was passed to \"scoops\" and assign it to self.scoops\n",
    "        \n",
    "b = Bowl([s1, s2])        "
   ]
  },
  {
   "cell_type": "code",
   "execution_count": 83,
   "metadata": {},
   "outputs": [
    {
     "data": {
      "text/plain": [
       "[<__main__.Scoop at 0x106847590>, <__main__.Scoop at 0x106808910>]"
      ]
     },
     "execution_count": 83,
     "metadata": {},
     "output_type": "execute_result"
    }
   ],
   "source": [
    "b.scoops   # what scoops do we have in our bowl?"
   ]
  },
  {
   "cell_type": "code",
   "execution_count": 84,
   "metadata": {},
   "outputs": [
    {
     "name": "stdout",
     "output_type": "stream",
     "text": [
      "chocolate\n",
      "vanilla\n"
     ]
    }
   ],
   "source": [
    "for one_scoop in b.scoops:\n",
    "    print(one_scoop.flavor)   # print the flavor for each Scoop object in our bowl"
   ]
  },
  {
   "cell_type": "code",
   "execution_count": 85,
   "metadata": {},
   "outputs": [
    {
     "name": "stdout",
     "output_type": "stream",
     "text": [
      "chocolate\n",
      "vanilla\n"
     ]
    }
   ],
   "source": [
    "class Scoop:\n",
    "    def __init__(self, flavor):\n",
    "        self.flavor = flavor\n",
    "        \n",
    "class Bowl:\n",
    "    def __init__(self, scoops):\n",
    "        self.scoops = scoops    # take the list that was passed to \"scoops\" and assign it to self.scoops\n",
    "        \n",
    "# create instances of Scoop\n",
    "s1 = Scoop('chocolate')\n",
    "s2 = Scoop('vanilla')\n",
    "s3 = Scoop('coffee')\n",
    "\n",
    "# create instance of Bowl, containing two scoops\n",
    "b = Bowl([s1, s2])        \n",
    "\n",
    "# iterate over the list of scoops and print each flavor\n",
    "for one_scoop in b.scoops:\n",
    "    print(one_scoop.flavor)   "
   ]
  },
  {
   "cell_type": "code",
   "execution_count": 87,
   "metadata": {},
   "outputs": [
    {
     "name": "stdout",
     "output_type": "stream",
     "text": [
      "chocolate\n",
      "vanilla\n"
     ]
    },
    {
     "data": {
      "text/plain": [
       "[<__main__.Scoop at 0x106810a90>, <__main__.Scoop at 0x10681e110>]"
      ]
     },
     "execution_count": 87,
     "metadata": {},
     "output_type": "execute_result"
    }
   ],
   "source": [
    "class Bowl:\n",
    "    def __init__(self,scoops):\n",
    "        self.scoops = scoops\n",
    "   \n",
    "b= Bowl([s1,s2])\n",
    "\n",
    "for one_scoop in b.scoops:\n",
    "    print(one_scoop.flavor)   \n",
    "\n",
    "b.scoops"
   ]
  },
  {
   "cell_type": "code",
   "execution_count": 88,
   "metadata": {},
   "outputs": [],
   "source": [
    "# pickle\n",
    "\n",
    "import pickle"
   ]
  },
  {
   "cell_type": "markdown",
   "metadata": {},
   "source": [
    "# Next up: Methods methods methods\n",
    "\n",
    "1. Adding methods to our classes\n",
    "2. What techniques from functions can we use with methods?\n",
    "\n",
    "Resume at :39"
   ]
  }
 ],
 "metadata": {
  "kernelspec": {
   "display_name": "Python 3 (ipykernel)",
   "language": "python",
   "name": "python3"
  },
  "language_info": {
   "codemirror_mode": {
    "name": "ipython",
    "version": 3
   },
   "file_extension": ".py",
   "mimetype": "text/x-python",
   "name": "python",
   "nbconvert_exporter": "python",
   "pygments_lexer": "ipython3",
   "version": "3.11.1"
  }
 },
 "nbformat": 4,
 "nbformat_minor": 4
}
