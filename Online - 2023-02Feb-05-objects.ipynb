{
 "cells": [
  {
   "cell_type": "markdown",
   "metadata": {},
   "source": [
    "# Python objects for newbies!\n",
    "\n",
    "1. Background on object-oriented programming\n",
    "2. Vocabulary -- Classes, objects (instances), and methods\n",
    "3. Writing our own class (our own new data type)\n",
    "4. What happens when we create a new object (instance)?\n",
    "5. Attributes -- what are they, how can we read/write them? How are they different from variables?\n",
    "6. Complex objects (\"composition of objects\")\n",
    "7. Methods (writing our own)\n",
    "8. Methods and special parameters"
   ]
  },
  {
   "cell_type": "markdown",
   "metadata": {},
   "source": [
    "# Background on object-oriented programming\n",
    "\n",
    "Back in the 1970s, the software industry had a problem: People were writing code, and they were having trouble organizing it and maintaining it.\n",
    "\n",
    "Xerox established a research center called PARC (Palo Alto Research Center), where they got a bunch of very smart people to invent new technologies. They invented, among other things, the mouse, on-screen fonts and windows, the mouse, Ethernet, PostScript (the father of PDF), and a lot of other things.\n",
    "\n",
    "One of the people at PARC was named Alan Kay. He saw the crisis in software as a problem worth solving. He decided to sovle it using something he called \"object-oriented programming,\" in a language called SmallTalk.\n",
    "\n",
    "Kay thought about how we can structure our software, even if it's hugely complex. He took biological systems as the model.\n",
    "\n",
    "In our body, we have cells. Each cell is of a different type. Each type of cell can send certain kinds of messages, and can receive certain kinds of messages.\n",
    "\n",
    "That model for software design is what led to object-oriented programming.\n",
    "\n",
    "- We'll have different types of objects in our software\n",
    "- Each object will be able to send certain messages, and receive certain messages\n",
    "- By thinking in terms of these different types, we aren't overwhelmed by all of the implementation\n",
    "\n",
    "Objects became super duper popular. Nowadays, it's a rare programming language that wants to be taken seriously which doesn't have objects.  Exceptions: Go, Erlang, bash.  But most languages do have object facilities, and use similar vocabulary to describe what we're doing, and how we're doing it.\n",
    "\n",
    "When you have a problem, and want to solve it with objects, you think about:\n",
    "\n",
    "- What types of nouns are going to exist in this system?\n",
    "- What types of messages should those nouns be able to receive?\n",
    "- What types of messages should these nouns send to other objects?\n",
    "\n",
    "We'll create different types of objects, aka \"classes.\"\n",
    "\n",
    "Each object we create is an \"instance\" of a different type.\n",
    "\n",
    "Each message we send is actually what we call \"invoking a method\" or \"calling a method.\""
   ]
  },
  {
   "cell_type": "markdown",
   "metadata": {},
   "source": [
    "# Important to remember\n",
    "\n",
    "Object-oriented programming is **NOT** a religion! It's a technique for managing and understanding your code. Every language does objects in a slightly different way, and different people use them in different ways, and that's OK.\n",
    "\n",
    "Some languages (e.g., Java and C#) require that you do everything via classes and methods and objects.\n",
    "\n",
    "In Python, you don't have to do so. You can create classes and your own objects, if that will help you to write your software better.  If it's easier to just write a simple function? Go for it!"
   ]
  },
  {
   "cell_type": "markdown",
   "metadata": {},
   "source": [
    "# Everything is an object!\n",
    "\n",
    "What does this mean? Who cares?\n",
    "\n",
    "It means: The language is very consistent. The same grammar, the same rules apply to every single thing in the programming language. When you learn how to work with strings, you're effectively also learning how to work with lists, tuples, dicts, sets, and any data structure that *you* create.  Because they're all based on the same types of objects, classes, methods, etc.\n",
    "\n",
    "If everything is an object, then everything has a *type*, or a *class*.  That helps us because every object of the same type acts the same way. \n",
    "\n",
    "Different cars work basically the same way, but they have different colors, sizes, makes, models, etc.  We can say that there's a car \"class\" and many objects of type \"car.\"\n",
    "\n",
    "Different pizzas taste basically the same, but they have different sizes, toppings, crusts, cheeses, etc.  We can say that there's a pizza \"class\" and many objects of type \"pizza.\"\n"
   ]
  },
  {
   "cell_type": "code",
   "execution_count": 1,
   "metadata": {},
   "outputs": [],
   "source": [
    "# let's look at some Python objects\n",
    "\n",
    "x = 10    # I'm assigning the integer 10 to x"
   ]
  },
  {
   "cell_type": "code",
   "execution_count": 2,
   "metadata": {},
   "outputs": [
    {
     "data": {
      "text/plain": [
       "int"
      ]
     },
     "execution_count": 2,
     "metadata": {},
     "output_type": "execute_result"
    }
   ],
   "source": [
    "# 10 is not just an integer\n",
    "\n",
    "# it's an integer object\n",
    "# it's an object of type integer\n",
    "# it's an instance of class integer\n",
    "# it's an instance of integer\n",
    "\n",
    "# I don't need to guess! I can ask Python to tell me what type of value I have\n",
    "type(x)"
   ]
  },
  {
   "cell_type": "markdown",
   "metadata": {},
   "source": [
    "# Some terminology\n",
    "\n",
    "A \"class\" (aka a \"type\") is the overall category of object that we're creating. You can think of a class/type as a factory for objects.\n",
    "\n",
    "So when I get into a car, I'm getting into a car object, created at the car factory.  In object terms, that means I'm getting into an instance of car, created by the car class.\n",
    "\n",
    "class == factory\n",
    "instance == thing manufactured\n",
    "\n",
    "What about the word \"object\"?\n",
    "\n",
    "It's very squishy. It usually refers to an instance, but in Python, it can also refer to a class. Colloquially, when I say that something is \"an object of type X,\" that means \"an instance of type X.\""
   ]
  },
  {
   "cell_type": "code",
   "execution_count": 3,
   "metadata": {},
   "outputs": [],
   "source": [
    "# here, I'm creating a list ,and assigning it to y\n",
    "# what's the type of y going to be?\n",
    "\n",
    "y = [10, 20, 30]   # we use [] to create lists"
   ]
  },
  {
   "cell_type": "code",
   "execution_count": 5,
   "metadata": {},
   "outputs": [
    {
     "data": {
      "text/plain": [
       "list"
      ]
     },
     "execution_count": 5,
     "metadata": {},
     "output_type": "execute_result"
    }
   ],
   "source": [
    "type(y)    # y is a variable referring to a list object, aka an instance of the \"list\" class/type"
   ]
  },
  {
   "cell_type": "code",
   "execution_count": 6,
   "metadata": {},
   "outputs": [
    {
     "data": {
      "text/plain": [
       "dict"
      ]
     },
     "execution_count": 6,
     "metadata": {},
     "output_type": "execute_result"
    }
   ],
   "source": [
    "d = {'a':10, 'b':20, 'c':30}    # we use {} to create dictionaries\n",
    "\n",
    "# here, I've created a new object and assigned it to d.  \n",
    "# what type of object do I have here?\n",
    "\n",
    "type(d)"
   ]
  },
  {
   "cell_type": "markdown",
   "metadata": {},
   "source": [
    "Confused by the parentheses? Try this!\n",
    "\n",
    "Python parentheses primer: https://lerner.co.il/2018/06/08/python-parentheses-primer/"
   ]
  },
  {
   "cell_type": "markdown",
   "metadata": {},
   "source": [
    "# Exercise: Name that type!\n",
    "\n",
    "Here are several data structures in Python. Guess what type each is, and then use `type` to find out if you're right!\n",
    "\n",
    "1. `'abcd'`\n",
    "2. (10, 20, 30)\n",
    "3. (10)\n",
    "4. [10, 20, 30][2]\n"
   ]
  },
  {
   "cell_type": "code",
   "execution_count": null,
   "metadata": {},
   "outputs": [],
   "source": [
    "type('abcd')"
   ]
  }
 ],
 "metadata": {
  "kernelspec": {
   "display_name": "Python 3 (ipykernel)",
   "language": "python",
   "name": "python3"
  },
  "language_info": {
   "codemirror_mode": {
    "name": "ipython",
    "version": 3
   },
   "file_extension": ".py",
   "mimetype": "text/x-python",
   "name": "python",
   "nbconvert_exporter": "python",
   "pygments_lexer": "ipython3",
   "version": "3.11.1"
  }
 },
 "nbformat": 4,
 "nbformat_minor": 4
}
