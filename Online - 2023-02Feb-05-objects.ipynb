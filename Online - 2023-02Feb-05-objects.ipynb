{
 "cells": [
  {
   "cell_type": "markdown",
   "metadata": {},
   "source": [
    "# Python objects for newbies!\n",
    "\n",
    "1. Background on object-oriented programming\n",
    "2. Vocabulary -- Classes, objects (instances), and methods\n",
    "3. Writing our own class (our own new data type)\n",
    "4. What happens when we create a new object (instance)?\n",
    "5. Attributes -- what are they, how can we read/write them? How are they different from variables?\n",
    "6. Complex objects (\"composition of objects\")\n",
    "7. Methods (writing our own)\n",
    "8. Methods and special parameters"
   ]
  },
  {
   "cell_type": "markdown",
   "metadata": {},
   "source": [
    "# Background on object-oriented programming\n",
    "\n",
    "Back in the 1970s, the software industry had a problem: People were writing code, and they were having trouble organizing it and maintaining it.\n",
    "\n"
   ]
  }
 ],
 "metadata": {
  "kernelspec": {
   "display_name": "Python 3 (ipykernel)",
   "language": "python",
   "name": "python3"
  },
  "language_info": {
   "codemirror_mode": {
    "name": "ipython",
    "version": 3
   },
   "file_extension": ".py",
   "mimetype": "text/x-python",
   "name": "python",
   "nbconvert_exporter": "python",
   "pygments_lexer": "ipython3",
   "version": "3.11.1"
  }
 },
 "nbformat": 4,
 "nbformat_minor": 4
}
