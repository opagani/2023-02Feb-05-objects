{
 "cells": [
  {
   "cell_type": "markdown",
   "metadata": {},
   "source": [
    "# Python objects for newbies!\n",
    "\n",
    "1. Background on object-oriented programming\n",
    "2. Vocabulary -- Classes, objects (instances), and methods\n",
    "3. Writing our own class (our own new data type)\n",
    "4. What happens when we create a new object (instance)?\n",
    "5. Attributes -- what are they, how can we read/write them? How are they different from variables?\n",
    "6. Complex objects (\"composition of objects\")\n",
    "7. Methods (writing our own)\n",
    "8. Methods and special parameters"
   ]
  },
  {
   "cell_type": "markdown",
   "metadata": {},
   "source": [
    "# Background on object-oriented programming\n",
    "\n",
    "Back in the 1970s, the software industry had a problem: People were writing code, and they were having trouble organizing it and maintaining it.\n",
    "\n",
    "Xerox established a research center called PARC (Palo Alto Research Center), where they got a bunch of very smart people to invent new technologies. They invented, among other things, the mouse, on-screen fonts and windows, the mouse, Ethernet, PostScript (the father of PDF), and a lot of other things.\n",
    "\n",
    "One of the people at PARC was named Alan Kay. He saw the crisis in software as a problem worth solving. He decided to sovle it using something he called \"object-oriented programming,\" in a language called SmallTalk.\n",
    "\n",
    "Kay thought about how we can structure our software, even if it's hugely complex. He took biological systems as the model.\n",
    "\n",
    "In our body, we have cells. Each cell is of a different type. Each type of cell can send certain kinds of messages, and can receive certain kinds of messages.\n",
    "\n",
    "That model for software design is what led to object-oriented programming.\n",
    "\n",
    "- We'll have different types of objects in our software\n",
    "- Each object will be able to send certain messages, and receive certain messages\n",
    "- By thinking in terms of these different types, we aren't overwhelmed by all of the implementation\n",
    "\n",
    "Objects became super duper popular. Nowadays, it's a rare programming language that wants to be taken seriously which doesn't have objects.  Exceptions: Go, Erlang, bash.  But most languages do have object facilities, and use similar vocabulary to describe what we're doing, and how we're doing it.\n",
    "\n",
    "When you have a problem, and want to solve it with objects, you think about:\n",
    "\n",
    "- What types of nouns are going to exist in this system?"
   ]
  },
  {
   "cell_type": "code",
   "execution_count": null,
   "metadata": {},
   "outputs": [],
   "source": []
  }
 ],
 "metadata": {
  "kernelspec": {
   "display_name": "Python 3 (ipykernel)",
   "language": "python",
   "name": "python3"
  },
  "language_info": {
   "codemirror_mode": {
    "name": "ipython",
    "version": 3
   },
   "file_extension": ".py",
   "mimetype": "text/x-python",
   "name": "python",
   "nbconvert_exporter": "python",
   "pygments_lexer": "ipython3",
   "version": "3.11.1"
  }
 },
 "nbformat": 4,
 "nbformat_minor": 4
}
